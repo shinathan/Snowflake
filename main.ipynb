{
 "cells": [
  {
   "cell_type": "markdown",
   "id": "ad299274",
   "metadata": {},
   "source": [
    "snow connection add\n",
    "\n"
   ]
  },
  {
   "cell_type": "code",
   "execution_count": 2,
   "id": "01cd0845",
   "metadata": {},
   "outputs": [],
   "source": [
    "import logging\n",
    "\n",
    "for logger_name in (\n",
    "    \"snowflake.connector\",\n",
    "    \"snowflake.connector.vendored\",\n",
    "    \"urllib3\",\n",
    "):\n",
    "    logging.getLogger(logger_name).setLevel(logging.DEBUG)\n",
    "\n",
    "logging.basicConfig(level=logging.DEBUG)"
   ]
  }
 ],
 "metadata": {
  "kernelspec": {
   "display_name": "snowflake",
   "language": "python",
   "name": "python3"
  },
  "language_info": {
   "codemirror_mode": {
    "name": "ipython",
    "version": 3
   },
   "file_extension": ".py",
   "mimetype": "text/x-python",
   "name": "python",
   "nbconvert_exporter": "python",
   "pygments_lexer": "ipython3",
   "version": "3.13.5"
  }
 },
 "nbformat": 4,
 "nbformat_minor": 5
}
